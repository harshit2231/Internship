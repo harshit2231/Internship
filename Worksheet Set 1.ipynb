{
 "cells": [
  {
   "cell_type": "code",
   "execution_count": 7,
   "id": "735f0de3",
   "metadata": {},
   "outputs": [
    {
     "name": "stdout",
     "output_type": "stream",
     "text": [
      "Enter a Number: 10\n",
      "The Factorial of 10 is 3628800\n"
     ]
    }
   ],
   "source": [
    "num=int(input(\"Enter a Number: \"))\n",
    "factorial = 1\n",
    "if num < 0:\n",
    "    print(\"Sorry Factorial does not exist\")\n",
    "elif num == 0:\n",
    "    print(\"Factorial of 0 is 1\")\n",
    "else:\n",
    "    for i in range(1,num+1):\n",
    "        factorial=factorial*i\n",
    "    print(\"The Factorial of\",num,\"is\",factorial)\n",
    "    \n",
    "    "
   ]
  },
  {
   "cell_type": "code",
   "execution_count": 24,
   "id": "292d38c4",
   "metadata": {},
   "outputs": [
    {
     "name": "stdout",
     "output_type": "stream",
     "text": [
      "Enter a Number: 11\n",
      "11 is a Prime Number\n"
     ]
    }
   ],
   "source": [
    "num=int(input(\"Enter a Number: \"))\n",
    "if num>1:\n",
    "    for i in range(2,num):\n",
    "        if (num % i) == 0:\n",
    "            print(num,\"is a Composite Number\")\n",
    "            break\n",
    "    else:\n",
    "        print(num,\"is a Prime Number\")\n",
    "else:\n",
    "    print(num,\"is a Composite Number\")\n",
    "    "
   ]
  },
  {
   "cell_type": "code",
   "execution_count": 32,
   "id": "36650d78",
   "metadata": {},
   "outputs": [
    {
     "name": "stdout",
     "output_type": "stream",
     "text": [
      "This String is not a Palindrome\n"
     ]
    }
   ],
   "source": [
    "string = \"Jalaj\"\n",
    "string = string.casefold()        \n",
    "rev_string = reversed(string)  \n",
    "\n",
    "if list(string) == list(rev_string):\n",
    "    print(\"The String is Palindrome\")\n",
    "else:\n",
    "    print(\"This String is not a Palindrome\")\n",
    "    "
   ]
  },
  {
   "cell_type": "code",
   "execution_count": 34,
   "id": "aa838c21",
   "metadata": {},
   "outputs": [
    {
     "name": "stdout",
     "output_type": "stream",
     "text": [
      "Please Enter the Sides of Triangle:\n",
      "a: 6\n",
      "b: 12\n",
      "The Third side of Triangle is 13.416407864998739\n"
     ]
    }
   ],
   "source": [
    "from math import sqrt\n",
    "print(\"Please Enter the Sides of Triangle:\")\n",
    "a = float(input(\"a: \"))\n",
    "b = float(input(\"b: \"))\n",
    "\n",
    "c = sqrt(a**2 + b**2)\n",
    "print(\"The Third side of Triangle is\", c )\n"
   ]
  },
  {
   "cell_type": "code",
   "execution_count": 45,
   "id": "5b6e4df8",
   "metadata": {},
   "outputs": [
    {
     "name": "stdout",
     "output_type": "stream",
     "text": [
      "Counting all characters in the String \n",
      "Counter({'h': 3, 'a': 2, 's': 2, 'i': 2, 't': 2, 'r': 1, ' ': 1})\n"
     ]
    }
   ],
   "source": [
    "from collections import Counter\n",
    "  \n",
    "string = \"harshit TISHA\"\n",
    "string = string.casefold() \n",
    "  \n",
    "# using collections.Counter() to get count of each element in string \n",
    "count = Counter(string)\n",
    "  \n",
    "print (\"Counting all characters in the String \\n\"+str(count))\n"
   ]
  },
  {
   "cell_type": "code",
   "execution_count": null,
   "id": "c556eac8",
   "metadata": {},
   "outputs": [],
   "source": []
  }
 ],
 "metadata": {
  "kernelspec": {
   "display_name": "Python 3 (ipykernel)",
   "language": "python",
   "name": "python3"
  },
  "language_info": {
   "codemirror_mode": {
    "name": "ipython",
    "version": 3
   },
   "file_extension": ".py",
   "mimetype": "text/x-python",
   "name": "python",
   "nbconvert_exporter": "python",
   "pygments_lexer": "ipython3",
   "version": "3.9.7"
  }
 },
 "nbformat": 4,
 "nbformat_minor": 5
}
